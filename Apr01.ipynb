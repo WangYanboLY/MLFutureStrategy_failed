{
 "cells": [
  {
   "cell_type": "markdown",
   "metadata": {},
   "source": [
    "## Step1 数据预处理\n",
    "1. 去除/填补缺失值\n",
    "2. 换月日处理\n",
    "3. 因子初筛"
   ]
  },
  {
   "cell_type": "code",
   "execution_count": 5,
   "metadata": {},
   "outputs": [
    {
     "name": "stdout",
     "output_type": "stream",
     "text": [
      "已删除所有周五和所有换月日\n",
      "{'A': [], 'AG': ['gj_014', 'returns_last_5days', 'gj_018', 'gj_019', 'gj_066', 'gj_065', 'gj_026', 'gj_017', 'gj_063', 'gj_046', 'gj_011'], 'AL': ['gj_037', 'wq_008'], 'AP': ['wq_025', 'wq_018', 'wq_010', 'wq_033', 'gj_054', 'wq_009', 'flipping_weight_4_67', 'flipping_weight_29_69', 'gj_060', 'wq_028', 'gj_010', 'wq_013', 'wq_027'], 'AU': ['gj_043', 'gj_022', 'gj_023'], 'BC': ['wq_025', 'wq_010', 'wq_018', 'wq_009', 'wq_083', 'gj_054', 'wq_054', 'wq_028', 'wq_017', 'wq_033', 'gj_002', 'high_low_17days', 'returns_daliy_max_7days', 'wq_066', 'wq_060', 'wq_011', 'gj_007', 'wq_038', 'wq_034', 'wq_073', 'gj_010', 'wq_049', 'wq_051', 'wq_071', 'wq_035', 'wq_002'], 'BU': [], 'C': ['wq_044'], 'CF': ['returns_daliy_max_2days', 'returns_last_2days', 'gj_043', 'weighted_avg_return_2', 'gj_013', 'wq_041'], 'CJ': ['wq_065', 'weighted_avg_return_2', 'gj_046', 'returns_last_2days', 'gj_026', 'gj_027', 'wq_042', 'gj_063', 'gj_034', 'gj_031', 'gj_021', 'gj_033', 'gj_020', 'gj_049', 'gj_050', 'gj_029', 'gj_009', 'returns_daliy_max_2days', 'gj_051', 'gj_043', 'gj_065', 'gj_066', 'gj_057', 'wq_030', 'gj_023', 'wq_046', 'gj_024', 'gj_028', 'gj_053', 'gj_040', 'gj_035', 'wq_006', 'gj_052', 'returns_last_18day', 'gj_014', 'wq_014', 'wq_038', 'gj_042', 'gj_044', 'gj_003'], 'CS': ['returns_last_18day', 'gj_052'], 'CU': ['wq_018', 'wq_025', 'wq_009', 'gj_054', 'wq_083', 'flipping_weight_4_67', 'wq_033', 'wq_038', 'wq_054', 'flipping_weight_29_69', 'wq_028', 'wq_037', 'wq_034', 'wq_057', 'gj_010', 'wq_010', 'wq_035', 'gj_063', 'gj_043', 'gj_002'], 'CY': ['weighted_avg_return_42'], 'EB': ['weighted_avg_return_42', 'wq_065', 'sma_weight_con_23_37', 'wq_020', 'wq_060'], 'EG': ['weighted_avg_return_42', 'gj_006', 'returns_daliy_max_last_20days'], 'FG': ['wq_028', 'wq_054', 'wq_035', 'wq_009'], 'FU': ['returns_daliy_max_last_20days', 'wq_016', 'wq_001'], 'HC': [], 'I': ['gj_037', 'gj_019', 'returns_last_5days', 'gj_018', 'wq_038', 'gj_065', 'wq_035', 'gj_066', 'gj_014', 'flipping_weight_4_67', 'wq_057', 'flipping_weight_29_69', 'gj_010'], 'IC': ['wq_054', 'wq_028', 'gj_013', 'wq_041', 'gj_002'], 'IF': ['wq_028', 'gj_011', 'gj_013', 'wq_041', 'wq_054'], 'IH': [], 'IM': ['gj_006', 'weighted_avg_return_2', 'gj_008', 'returns_last_2days', 'gj_041', 'gj_053', 'wq_023', 'gj_038', 'gj_023', 'high_low_5days', 'gj_010', 'gj_051', 'gj_001', 'gj_050', 'gj_049', 'gj_066', 'gj_065', 'wq_071', 'wq_001', 'wq_024', 'gj_063', 'gj_058', 'wq_004', 'gj_044', 'volume_std_2days', 'gj_028'], 'J': ['wq_057', 'wq_028', 'wq_018', 'wq_033', 'flipping_weight_4_67', 'wq_054', 'gj_054', 'wq_083', 'flipping_weight_29_69', 'wq_043', 'gj_002', 'wq_025', 'gj_037'], 'JD': ['wq_009', 'wq_049', 'wq_051', 'gj_013', 'wq_041', 'wq_034', 'flipping_weight_4_67', 'wq_025', 'wq_035', 'wq_066', 'gj_010', 'wq_054', 'flipping_weight_29_69'], 'JM': ['wq_038', 'wq_054', 'wq_028', 'gj_011', 'wq_033', 'flipping_weight_29_69', 'flipping_weight_4_67', 'wq_034', 'wq_018', 'wq_035', 'wq_057', 'wq_083'], 'L': [], 'LH': ['wq_020', 'returns_last_2days', 'gj_015', 'weighted_avg_return_2', 'wq_030', 'gj_012', 'wq_008', 'wq_025', 'gj_054', 'gj_053', 'gj_043', 'gj_038', 'wq_023', 'returns_daliy_max_2days', 'wq_066', 'gj_023', 'wq_033', 'wq_068'], 'LU': ['gj_052', 'gj_031', 'gj_057', 'gj_034', 'gj_047', 'gj_040', 'gj_001', 'gj_051', 'gj_050', 'gj_049', 'gj_046', 'gj_028', 'wq_008', 'gj_024', 'gj_053', 'gj_058', 'wq_038', 'gj_017', 'gj_027', 'gj_063', 'gj_009', 'gj_029', 'gj_003', 'gj_021'], 'M': [], 'MA': ['high_low_17days', 'gj_011', 'wq_037', 'gj_003'], 'NI': ['wq_083', 'wq_066', 'gj_017', 'wq_035', 'gj_011'], 'NR': ['gj_013', 'wq_041', 'wq_008', 'wq_017'], 'OI': ['gj_056', 'wq_040', 'wq_046'], 'P': ['returns_daliy_max_last_20days', 'returns_std_27days', 'returns_std_3days'], 'PB': ['wq_047', 'wq_031', 'gj_049', 'gj_050', 'gj_051', 'gj_066', 'gj_026', 'gj_065', 'gj_034', 'gj_031', 'returns_last_5days', 'gj_018', 'gj_019', 'gj_014', 'gj_024', 'gj_046', 'gj_063', 'gj_053', 'gj_027', 'gj_020', 'gj_057'], 'PF': ['high_low_17days', 'weighted_avg_return_42', 'wq_044', 'volume_std_21days', 'wq_026', 'wq_045', 'gj_035', 'gj_005', 'returns_std_27days', 'wq_029', 'wq_055'], 'PG': ['returns_daliy_max_7days', 'gj_006', 'high_low_5days', 'gj_011', 'returns_daliy_max_2days'], 'PK': ['wq_027', 'gj_017', 'returns_last_5days', 'gj_018', 'gj_019', 'gj_014', 'returns_daliy_max_last_20days', 'gj_062', 'gj_052', 'volume_std_21days', 'wq_024', 'wq_006', 'gj_065', 'gj_066', 'gj_015', 'gj_026', 'returns_std_3days', 'gj_046'], 'PP': [], 'RB': ['wq_034', 'wq_057', 'wq_028', 'flipping_weight_4_67', 'gj_054', 'flipping_weight_29_69', 'wq_033', 'wq_035', 'wq_038', 'gj_010', 'wq_066', 'wq_042', 'wq_018', 'wq_025', 'gj_066', 'gj_065', 'gj_003', 'gj_043', 'wq_074'], 'RM': [], 'RU': ['wq_054'], 'SA': ['wq_045', 'wq_034', 'wq_044', 'wq_075', 'wq_046', 'gj_049', 'gj_050', 'gj_051', 'gj_037'], 'SC': ['gj_056', 'high_low_17days', 'gj_013', 'wq_041'], 'SF': ['high_low_17days', 'returns_daliy_max_last_20days', 'high_low_5days', 'volume_std_11days', 'wq_060'], 'SI': ['wq_046', 'wq_002', 'gj_013', 'wq_041', 'gj_043', 'wq_024', 'gj_051', 'gj_002', 'gj_063', 'gj_003', 'returns_std_3days'], 'SM': [], 'SN': ['wq_035', 'wq_025', 'wq_017', 'flipping_weight_4_67', 'wq_043', 'gj_010'], 'SP': ['returns_last_18day', 'returns_daliy_max_last_20days'], 'SR': ['gj_024', 'gj_020', 'gj_003', 'gj_019', 'returns_last_5days', 'gj_018', 'gj_047', 'gj_014', 'gj_029', 'gj_017', 'gj_027', 'gj_011', 'gj_057'], 'SS': ['gj_013', 'wq_041', 'returns_daliy_max_2days', 'weighted_avg_return_2', 'wq_034', 'wq_040', 'returns_last_2days', 'gj_038', 'wq_023', 'wq_035', 'wq_003', 'gj_005', 'wq_026'], 'T': ['gj_054', 'gj_013', 'wq_041', 'flipping_weight_29_69', 'wq_038', 'flipping_weight_4_67', 'returns_daliy_max_2days', 'wq_018', 'returns_last_2days', 'wq_049', 'wq_054', 'gj_063', 'wq_060', 'gj_046', 'gj_031', 'gj_034', 'wq_046', 'wq_025', 'wq_031', 'wq_051', 'gj_065', 'gj_066', 'gj_028', 'wq_034'], 'TA': [], 'TF': ['returns_last_2days', 'gj_034', 'gj_031', 'gj_063', 'wq_031', 'gj_046', 'gj_066', 'gj_065', 'gj_028', 'wq_049', 'weighted_avg_return_2', 'returns_daliy_max_2days', 'gj_057', 'wq_025', 'wq_038', 'gj_024', 'gj_020', 'wq_051', 'wq_066', 'gj_018', 'returns_last_5days', 'gj_019', 'wq_042', 'gj_014', 'gj_027', 'gj_003', 'gj_054'], 'UR': ['wq_046', 'wq_027'], 'V': [], 'WR': ['wq_046', 'wq_031', 'volume_std_11days', 'wq_017', 'wq_019', 'volume_std_2days', 'wq_002'], 'Y': ['returns_std_27days', 'gj_042', 'wq_068', 'gj_056'], 'ZN': ['gj_014', 'gj_019', 'returns_last_5days', 'gj_018', 'gj_011', 'gj_017', 'gj_063', 'gj_026', 'gj_003', 'gj_046', 'wq_042', 'gj_020', 'gj_065', 'gj_066', 'gj_034', 'gj_031', 'wq_038', 'gj_029', 'gj_024']}\n",
      "指标筛选已完成\n"
     ]
    }
   ],
   "source": [
    "# 首先计算因子\n",
    "from 传统动量指标集 import *\n",
    "from 传统波动率指标集 import *\n",
    "from 国泰君安指标计算集 import *\n",
    "from 世宽指标计算集 import *\n",
    "\n",
    "import pandas as pd\n",
    "import 计算函数包 as cf\n",
    "\n",
    "if __name__ == \"__main__\":\n",
    "    feature_compute_funcs = [\n",
    "        high_low_5days, high_low_17days,\n",
    "\n",
    "        volume_std_2days, volume_std_11days, volume_std_21days,\n",
    "\n",
    "        returns_std_3days, returns_std_27days, returns_last_5days, returns_last_18day, returns_last_2days,\n",
    "\n",
    "        weighted_avg_return_2, weighted_avg_return_42,\n",
    "\n",
    "        returns_daliy_max_2days, returns_daliy_max_7days, returns_daliy_max_last_20days,\n",
    "\n",
    "        sma_weight_con_23_37, sma_weight_con_3_62,\n",
    "\n",
    "        flipping_weight_29_69, flipping_weight_4_67,\n",
    "\n",
    "        gj_001, gj_002, gj_003, gj_004, gj_005, gj_006, gj_007, gj_008, gj_009, gj_010,\n",
    "        gj_011, gj_012, gj_013, gj_014, gj_015, gj_016, gj_017, gj_018, gj_019, gj_020,\n",
    "        gj_021, gj_022, gj_023, gj_024, gj_025, gj_026, gj_027, gj_028, gj_029, gj_031,\n",
    "        gj_032, gj_033, gj_034, gj_035, gj_036, gj_037, gj_038, gj_039, gj_040, gj_041,\n",
    "        gj_042, gj_043, gj_044, gj_045, gj_046, gj_047, gj_048, gj_049, gj_050, gj_051,\n",
    "        gj_052, gj_053, gj_054, gj_056, gj_057, gj_058, gj_059, gj_060, gj_061, gj_062,\n",
    "        gj_063, gj_064, gj_065, gj_066,\n",
    "\n",
    "        wq_001, wq_002, wq_003, wq_004, wq_005, wq_006, wq_007, wq_008, wq_009, wq_010,\n",
    "        wq_011, wq_012, wq_013, wq_014, wq_015, wq_016, wq_017, wq_018, wq_019, wq_020,\n",
    "        wq_021, wq_022, wq_023, wq_024, wq_025, wq_026, wq_027, wq_028, wq_029, wq_030,\n",
    "        wq_031, wq_032, wq_033, wq_034, wq_035, wq_036, wq_037, wq_038, wq_039, wq_040,\n",
    "        wq_041, wq_042, wq_043, wq_044, wq_045, wq_046, wq_047, wq_049, wq_050, wq_051,\n",
    "        wq_052, wq_053, wq_054, wq_055, wq_057, wq_065, wq_064, wq_060, wq_061, wq_066,\n",
    "        wq_068, wq_070, wq_071, wq_072, wq_073, wq_074, wq_075, wq_077, wq_078, wq_081,\n",
    "        wq_083, wq_085\n",
    "    ]\n",
    "    # 读取因子名\n",
    "    feature_names = [func.__name__ for func in feature_compute_funcs]\n",
    "    df = pd.read_csv(\"/Users/wangyanbo/24Spring/intern/MLBasedFuturesStrategy/Dataset/指标已计算/dataset.csv\")\n",
    "    df['date'] = pd.to_datetime(df['date'])\n",
    "    df = df.loc[df['huanyue'] != 2]\n",
    "    df = df.loc[df['date'].dt.dayofweek != 4]\n",
    "    print(\"已删除所有周五和所有换月日\")\n",
    "\n",
    "    # TODO 修改初筛因子的方法\n",
    "    ic = cf.information_coefficient(df, feature_list=feature_names)\n",
    "    features = cf.factor_filter_double(df, ic, number_bar=0.1, top_n=40, ic_bar=0.07125)\n",
    "\n",
    "    print(features)\n",
    "    print(\"指标筛选已完成\")\n"
   ]
  },
  {
   "cell_type": "code",
   "execution_count": 2,
   "metadata": {},
   "outputs": [],
   "source": [
    "columns = ['指标数', '信息系数门槛', '交易次数', '胜率', '日胜率', '盈亏比', '日盈亏比', '单笔平均盈亏', '最大回撤',\n",
    "            '总收益率', '年化收益率', '夏普比率', '卡玛比率', '百次交易盈亏']\n",
    "what_i_want = pd.DataFrame(columns=columns)\n",
    "data_path = r\"/Users/wangyanbo/24Spring/intern/MLBasedFuturesStrategy/Dataset/未连续化/标记了换月日的未连续化的日级数据.csv\"\n",
    "data = pd.read_csv(data_path)\n",
    "data['date'] = pd.to_datetime(data['date'])"
   ]
  },
  {
   "cell_type": "code",
   "execution_count": 6,
   "metadata": {},
   "outputs": [
    {
     "name": "stdout",
     "output_type": "stream",
     "text": [
      "{'A': [], 'AG': ['gj_014', 'returns_last_5days', 'gj_018', 'gj_019', 'gj_066'], 'AL': ['gj_037', 'wq_008'], 'AP': ['wq_025', 'wq_018', 'wq_010', 'wq_033', 'gj_054'], 'AU': ['gj_043'], 'BC': ['wq_025', 'wq_010', 'wq_018', 'wq_009', 'wq_083'], 'BU': [], 'C': ['wq_044'], 'CF': ['returns_daliy_max_2days', 'returns_last_2days', 'gj_043', 'weighted_avg_return_2'], 'CJ': ['wq_065', 'weighted_avg_return_2', 'gj_046', 'returns_last_2days', 'gj_026'], 'CS': ['returns_last_18day', 'gj_052'], 'CU': ['wq_018', 'wq_025', 'wq_009', 'gj_054', 'wq_083'], 'CY': [], 'EB': ['weighted_avg_return_42', 'wq_065', 'sma_weight_con_23_37', 'wq_020'], 'EG': ['weighted_avg_return_42', 'gj_006', 'returns_daliy_max_last_20days'], 'FG': ['wq_028', 'wq_054'], 'FU': ['returns_daliy_max_last_20days', 'wq_016'], 'HC': [], 'I': ['gj_037', 'gj_019', 'returns_last_5days', 'gj_018', 'wq_038'], 'IC': ['wq_054', 'wq_028', 'gj_013', 'wq_041'], 'IF': ['wq_028', 'gj_011', 'gj_013', 'wq_041'], 'IH': [], 'IM': ['gj_006', 'weighted_avg_return_2', 'gj_008', 'returns_last_2days', 'gj_041'], 'J': ['wq_057', 'wq_028', 'wq_018', 'wq_033', 'flipping_weight_4_67'], 'JD': ['wq_009', 'wq_049', 'wq_051', 'gj_013', 'wq_041'], 'JM': ['wq_038', 'wq_054', 'wq_028', 'gj_011', 'wq_033'], 'L': [], 'LH': ['wq_020', 'returns_last_2days', 'gj_015', 'weighted_avg_return_2', 'wq_030'], 'LU': ['gj_052', 'gj_031', 'gj_057', 'gj_034', 'gj_047'], 'M': [], 'MA': ['high_low_17days', 'gj_011'], 'NI': ['wq_083', 'wq_066', 'gj_017', 'wq_035'], 'NR': ['gj_013', 'wq_041', 'wq_008'], 'OI': ['gj_056'], 'P': ['returns_daliy_max_last_20days'], 'PB': ['wq_047', 'wq_031', 'gj_049', 'gj_050', 'gj_051'], 'PF': ['high_low_17days', 'weighted_avg_return_42', 'wq_044', 'volume_std_21days', 'wq_026'], 'PG': ['returns_daliy_max_7days', 'gj_006', 'high_low_5days'], 'PK': ['wq_027', 'gj_017', 'returns_last_5days', 'gj_018', 'gj_019'], 'PP': [], 'RB': ['wq_034', 'wq_057', 'wq_028', 'flipping_weight_4_67', 'gj_054'], 'RM': [], 'RU': [], 'SA': ['wq_045', 'wq_034', 'wq_044', 'wq_075', 'wq_046'], 'SC': ['gj_056', 'high_low_17days'], 'SF': ['high_low_17days', 'returns_daliy_max_last_20days', 'high_low_5days', 'volume_std_11days'], 'SI': ['wq_046', 'wq_002', 'gj_013', 'wq_041', 'gj_043'], 'SM': [], 'SN': ['wq_035', 'wq_025', 'wq_017'], 'SP': ['returns_last_18day', 'returns_daliy_max_last_20days'], 'SR': ['gj_024', 'gj_020', 'gj_003', 'gj_019', 'returns_last_5days'], 'SS': ['gj_013', 'wq_041', 'returns_daliy_max_2days', 'weighted_avg_return_2', 'wq_034'], 'T': ['gj_054', 'gj_013', 'wq_041', 'flipping_weight_29_69', 'wq_038'], 'TA': [], 'TF': ['returns_last_2days', 'gj_034', 'gj_031', 'gj_063', 'wq_031'], 'UR': ['wq_046'], 'V': [], 'WR': ['wq_046', 'wq_031', 'volume_std_11days', 'wq_017', 'wq_019'], 'Y': ['returns_std_27days', 'gj_042', 'wq_068'], 'ZN': ['gj_014', 'gj_019', 'returns_last_5days', 'gj_018', 'gj_011']}\n",
      "指标筛选已完成\n",
      "所有准备工作已完成，即将开始滚动训练\n",
      "元素总数: 59978\n"
     ]
    },
    {
     "name": "stderr",
     "output_type": "stream",
     "text": [
      "100%|██████████| 45/45 [00:22<00:00,  2.04it/s]\n"
     ]
    },
    {
     "name": "stdout",
     "output_type": "stream",
     "text": [
      "最大回撤开始日期: 2021-09-03 00:00:00\n",
      "最大回撤结束日期: 2021-10-19 00:00:00\n",
      "交易次数: 700, 胜率: 57.29%, 日胜率: 56.84%, 盈亏比: 0.916, 日盈亏比: 0.977, 单笔平均盈亏: 2920.793, 最大回撤: 0.202, 总收益率: 51.11%, 年化收益率: 5.62%, 夏普比率: 0.521, 卡玛比率: 0.278, 百次交易盈亏0.09769729892412538\n",
      "{'A': [], 'AG': ['gj_014', 'returns_last_5days', 'gj_018', 'gj_019', 'gj_066'], 'AL': ['gj_037'], 'AP': ['wq_025', 'wq_018', 'wq_010', 'wq_033', 'gj_054'], 'AU': ['gj_043'], 'BC': ['wq_025', 'wq_010', 'wq_018', 'wq_009', 'wq_083'], 'BU': [], 'C': [], 'CF': ['returns_daliy_max_2days', 'returns_last_2days'], 'CJ': ['wq_065', 'weighted_avg_return_2', 'gj_046', 'returns_last_2days', 'gj_026'], 'CS': [], 'CU': ['wq_018', 'wq_025', 'wq_009', 'gj_054', 'wq_083'], 'CY': [], 'EB': ['weighted_avg_return_42', 'wq_065'], 'EG': ['weighted_avg_return_42', 'gj_006'], 'FG': [], 'FU': ['returns_daliy_max_last_20days'], 'HC': [], 'I': ['gj_037', 'gj_019', 'returns_last_5days', 'gj_018'], 'IC': ['wq_054'], 'IF': ['wq_028', 'gj_011', 'gj_013', 'wq_041'], 'IH': [], 'IM': ['gj_006', 'weighted_avg_return_2', 'gj_008', 'returns_last_2days', 'gj_041'], 'J': ['wq_057', 'wq_028', 'wq_018', 'wq_033', 'flipping_weight_4_67'], 'JD': ['wq_009', 'wq_049', 'wq_051', 'gj_013', 'wq_041'], 'JM': ['wq_038', 'wq_054'], 'L': [], 'LH': ['wq_020', 'returns_last_2days', 'gj_015', 'weighted_avg_return_2', 'wq_030'], 'LU': ['gj_052', 'gj_031', 'gj_057', 'gj_034', 'gj_047'], 'M': [], 'MA': ['high_low_17days'], 'NI': ['wq_083', 'wq_066', 'gj_017', 'wq_035'], 'NR': ['gj_013', 'wq_041', 'wq_008'], 'OI': ['gj_056'], 'P': ['returns_daliy_max_last_20days'], 'PB': ['wq_047', 'wq_031', 'gj_049', 'gj_050', 'gj_051'], 'PF': ['high_low_17days', 'weighted_avg_return_42', 'wq_044', 'volume_std_21days', 'wq_026'], 'PG': ['returns_daliy_max_7days', 'gj_006', 'high_low_5days'], 'PK': ['wq_027', 'gj_017', 'returns_last_5days', 'gj_018', 'gj_019'], 'PP': [], 'RB': ['wq_034', 'wq_057', 'wq_028', 'flipping_weight_4_67', 'gj_054'], 'RM': [], 'RU': [], 'SA': ['wq_045', 'wq_034', 'wq_044'], 'SC': ['gj_056'], 'SF': ['high_low_17days', 'returns_daliy_max_last_20days', 'high_low_5days'], 'SI': ['wq_046', 'wq_002', 'gj_013', 'wq_041', 'gj_043'], 'SM': [], 'SN': ['wq_035', 'wq_025'], 'SP': ['returns_last_18day'], 'SR': ['gj_024', 'gj_020', 'gj_003', 'gj_019', 'returns_last_5days'], 'SS': ['gj_013', 'wq_041', 'returns_daliy_max_2days', 'weighted_avg_return_2', 'wq_034'], 'T': ['gj_054', 'gj_013', 'wq_041', 'flipping_weight_29_69', 'wq_038'], 'TA': [], 'TF': ['returns_last_2days', 'gj_034', 'gj_031', 'gj_063', 'wq_031'], 'UR': ['wq_046'], 'V': [], 'WR': ['wq_046', 'wq_031', 'volume_std_11days', 'wq_017', 'wq_019'], 'Y': ['returns_std_27days'], 'ZN': ['gj_014', 'gj_019', 'returns_last_5days', 'gj_018', 'gj_011']}\n",
      "指标筛选已完成\n",
      "所有准备工作已完成，即将开始滚动训练\n",
      "元素总数: 54892\n"
     ]
    },
    {
     "name": "stderr",
     "output_type": "stream",
     "text": [
      " 26%|██▌       | 11/42 [00:07<00:22,  1.39it/s]\n"
     ]
    },
    {
     "ename": "KeyboardInterrupt",
     "evalue": "",
     "output_type": "error",
     "traceback": [
      "\u001b[0;31m---------------------------------------------------------------------------\u001b[0m",
      "\u001b[0;31mKeyboardInterrupt\u001b[0m                         Traceback (most recent call last)",
      "Cell \u001b[0;32mIn[6], line 47\u001b[0m\n\u001b[1;32m     44\u001b[0m partial_function \u001b[38;5;241m=\u001b[39m partial(cf\u001b[38;5;241m.\u001b[39mlinear_regression_rolling, length\u001b[38;5;241m=\u001b[39m\u001b[38;5;241m287\u001b[39m)\n\u001b[1;32m     46\u001b[0m \u001b[38;5;66;03m# 使用多进程进行回测\u001b[39;00m\n\u001b[0;32m---> 47\u001b[0m results \u001b[38;5;241m=\u001b[39m \u001b[43mprocess_map\u001b[49m\u001b[43m(\u001b[49m\u001b[43mpartial_function\u001b[49m\u001b[43m,\u001b[49m\u001b[43m \u001b[49m\u001b[43mdiction_model\u001b[49m\u001b[43m,\u001b[49m\u001b[43m \u001b[49m\u001b[43mmax_workers\u001b[49m\u001b[38;5;241;43m=\u001b[39;49m\u001b[43mcpu_count\u001b[49m\u001b[43m(\u001b[49m\u001b[43m)\u001b[49m\u001b[38;5;241;43m-\u001b[39;49m\u001b[38;5;241;43m1\u001b[39;49m\u001b[43m)\u001b[49m\n\u001b[1;32m     48\u001b[0m prediction \u001b[38;5;241m=\u001b[39m pd\u001b[38;5;241m.\u001b[39mconcat(results, ignore_index\u001b[38;5;241m=\u001b[39m\u001b[38;5;28;01mTrue\u001b[39;00m)\n\u001b[1;32m     49\u001b[0m result \u001b[38;5;241m=\u001b[39m data\u001b[38;5;241m.\u001b[39mmerge(prediction[[\u001b[38;5;124m'\u001b[39m\u001b[38;5;124mid\u001b[39m\u001b[38;5;124m'\u001b[39m, \u001b[38;5;124m'\u001b[39m\u001b[38;5;124mdate\u001b[39m\u001b[38;5;124m'\u001b[39m, \u001b[38;5;124m'\u001b[39m\u001b[38;5;124mlabel\u001b[39m\u001b[38;5;124m'\u001b[39m, \u001b[38;5;124m'\u001b[39m\u001b[38;5;124mprediction\u001b[39m\u001b[38;5;124m'\u001b[39m]], on\u001b[38;5;241m=\u001b[39m[\u001b[38;5;124m'\u001b[39m\u001b[38;5;124mid\u001b[39m\u001b[38;5;124m'\u001b[39m, \u001b[38;5;124m'\u001b[39m\u001b[38;5;124mdate\u001b[39m\u001b[38;5;124m'\u001b[39m], how\u001b[38;5;241m=\u001b[39m\u001b[38;5;124m'\u001b[39m\u001b[38;5;124mleft\u001b[39m\u001b[38;5;124m'\u001b[39m)\n",
      "File \u001b[0;32m~/miniforge3/envs/quantie/lib/python3.8/site-packages/tqdm/contrib/concurrent.py:105\u001b[0m, in \u001b[0;36mprocess_map\u001b[0;34m(fn, *iterables, **tqdm_kwargs)\u001b[0m\n\u001b[1;32m    103\u001b[0m     tqdm_kwargs \u001b[38;5;241m=\u001b[39m tqdm_kwargs\u001b[38;5;241m.\u001b[39mcopy()\n\u001b[1;32m    104\u001b[0m     tqdm_kwargs[\u001b[38;5;124m\"\u001b[39m\u001b[38;5;124mlock_name\u001b[39m\u001b[38;5;124m\"\u001b[39m] \u001b[38;5;241m=\u001b[39m \u001b[38;5;124m\"\u001b[39m\u001b[38;5;124mmp_lock\u001b[39m\u001b[38;5;124m\"\u001b[39m\n\u001b[0;32m--> 105\u001b[0m \u001b[38;5;28;01mreturn\u001b[39;00m \u001b[43m_executor_map\u001b[49m\u001b[43m(\u001b[49m\u001b[43mProcessPoolExecutor\u001b[49m\u001b[43m,\u001b[49m\u001b[43m \u001b[49m\u001b[43mfn\u001b[49m\u001b[43m,\u001b[49m\u001b[43m \u001b[49m\u001b[38;5;241;43m*\u001b[39;49m\u001b[43miterables\u001b[49m\u001b[43m,\u001b[49m\u001b[43m \u001b[49m\u001b[38;5;241;43m*\u001b[39;49m\u001b[38;5;241;43m*\u001b[39;49m\u001b[43mtqdm_kwargs\u001b[49m\u001b[43m)\u001b[49m\n",
      "File \u001b[0;32m~/miniforge3/envs/quantie/lib/python3.8/site-packages/tqdm/contrib/concurrent.py:51\u001b[0m, in \u001b[0;36m_executor_map\u001b[0;34m(PoolExecutor, fn, *iterables, **tqdm_kwargs)\u001b[0m\n\u001b[1;32m     47\u001b[0m \u001b[38;5;28;01mwith\u001b[39;00m ensure_lock(tqdm_class, lock_name\u001b[38;5;241m=\u001b[39mlock_name) \u001b[38;5;28;01mas\u001b[39;00m lk:\n\u001b[1;32m     48\u001b[0m     \u001b[38;5;66;03m# share lock in case workers are already using `tqdm`\u001b[39;00m\n\u001b[1;32m     49\u001b[0m     \u001b[38;5;28;01mwith\u001b[39;00m PoolExecutor(max_workers\u001b[38;5;241m=\u001b[39mmax_workers, initializer\u001b[38;5;241m=\u001b[39mtqdm_class\u001b[38;5;241m.\u001b[39mset_lock,\n\u001b[1;32m     50\u001b[0m                       initargs\u001b[38;5;241m=\u001b[39m(lk,)) \u001b[38;5;28;01mas\u001b[39;00m ex:\n\u001b[0;32m---> 51\u001b[0m         \u001b[38;5;28;01mreturn\u001b[39;00m \u001b[38;5;28;43mlist\u001b[39;49m\u001b[43m(\u001b[49m\u001b[43mtqdm_class\u001b[49m\u001b[43m(\u001b[49m\u001b[43mex\u001b[49m\u001b[38;5;241;43m.\u001b[39;49m\u001b[43mmap\u001b[49m\u001b[43m(\u001b[49m\u001b[43mfn\u001b[49m\u001b[43m,\u001b[49m\u001b[43m \u001b[49m\u001b[38;5;241;43m*\u001b[39;49m\u001b[43miterables\u001b[49m\u001b[43m,\u001b[49m\u001b[43m \u001b[49m\u001b[43mchunksize\u001b[49m\u001b[38;5;241;43m=\u001b[39;49m\u001b[43mchunksize\u001b[49m\u001b[43m)\u001b[49m\u001b[43m,\u001b[49m\u001b[43m \u001b[49m\u001b[38;5;241;43m*\u001b[39;49m\u001b[38;5;241;43m*\u001b[39;49m\u001b[43mkwargs\u001b[49m\u001b[43m)\u001b[49m\u001b[43m)\u001b[49m\n",
      "File \u001b[0;32m~/miniforge3/envs/quantie/lib/python3.8/site-packages/tqdm/std.py:1178\u001b[0m, in \u001b[0;36mtqdm.__iter__\u001b[0;34m(self)\u001b[0m\n\u001b[1;32m   1175\u001b[0m time \u001b[38;5;241m=\u001b[39m \u001b[38;5;28mself\u001b[39m\u001b[38;5;241m.\u001b[39m_time\n\u001b[1;32m   1177\u001b[0m \u001b[38;5;28;01mtry\u001b[39;00m:\n\u001b[0;32m-> 1178\u001b[0m     \u001b[38;5;28;01mfor\u001b[39;00m obj \u001b[38;5;129;01min\u001b[39;00m iterable:\n\u001b[1;32m   1179\u001b[0m         \u001b[38;5;28;01myield\u001b[39;00m obj\n\u001b[1;32m   1180\u001b[0m         \u001b[38;5;66;03m# Update and possibly print the progressbar.\u001b[39;00m\n\u001b[1;32m   1181\u001b[0m         \u001b[38;5;66;03m# Note: does not call self.update(1) for speed optimisation.\u001b[39;00m\n",
      "File \u001b[0;32m~/miniforge3/envs/quantie/lib/python3.8/concurrent/futures/process.py:484\u001b[0m, in \u001b[0;36m_chain_from_iterable_of_lists\u001b[0;34m(iterable)\u001b[0m\n\u001b[1;32m    478\u001b[0m \u001b[38;5;28;01mdef\u001b[39;00m \u001b[38;5;21m_chain_from_iterable_of_lists\u001b[39m(iterable):\n\u001b[1;32m    479\u001b[0m \u001b[38;5;250m    \u001b[39m\u001b[38;5;124;03m\"\"\"\u001b[39;00m\n\u001b[1;32m    480\u001b[0m \u001b[38;5;124;03m    Specialized implementation of itertools.chain.from_iterable.\u001b[39;00m\n\u001b[1;32m    481\u001b[0m \u001b[38;5;124;03m    Each item in *iterable* should be a list.  This function is\u001b[39;00m\n\u001b[1;32m    482\u001b[0m \u001b[38;5;124;03m    careful not to keep references to yielded objects.\u001b[39;00m\n\u001b[1;32m    483\u001b[0m \u001b[38;5;124;03m    \"\"\"\u001b[39;00m\n\u001b[0;32m--> 484\u001b[0m     \u001b[38;5;28;01mfor\u001b[39;00m element \u001b[38;5;129;01min\u001b[39;00m iterable:\n\u001b[1;32m    485\u001b[0m         element\u001b[38;5;241m.\u001b[39mreverse()\n\u001b[1;32m    486\u001b[0m         \u001b[38;5;28;01mwhile\u001b[39;00m element:\n",
      "File \u001b[0;32m~/miniforge3/envs/quantie/lib/python3.8/concurrent/futures/_base.py:619\u001b[0m, in \u001b[0;36mExecutor.map.<locals>.result_iterator\u001b[0;34m()\u001b[0m\n\u001b[1;32m    616\u001b[0m \u001b[38;5;28;01mwhile\u001b[39;00m fs:\n\u001b[1;32m    617\u001b[0m     \u001b[38;5;66;03m# Careful not to keep a reference to the popped future\u001b[39;00m\n\u001b[1;32m    618\u001b[0m     \u001b[38;5;28;01mif\u001b[39;00m timeout \u001b[38;5;129;01mis\u001b[39;00m \u001b[38;5;28;01mNone\u001b[39;00m:\n\u001b[0;32m--> 619\u001b[0m         \u001b[38;5;28;01myield\u001b[39;00m \u001b[43mfs\u001b[49m\u001b[38;5;241;43m.\u001b[39;49m\u001b[43mpop\u001b[49m\u001b[43m(\u001b[49m\u001b[43m)\u001b[49m\u001b[38;5;241;43m.\u001b[39;49m\u001b[43mresult\u001b[49m\u001b[43m(\u001b[49m\u001b[43m)\u001b[49m\n\u001b[1;32m    620\u001b[0m     \u001b[38;5;28;01melse\u001b[39;00m:\n\u001b[1;32m    621\u001b[0m         \u001b[38;5;28;01myield\u001b[39;00m fs\u001b[38;5;241m.\u001b[39mpop()\u001b[38;5;241m.\u001b[39mresult(end_time \u001b[38;5;241m-\u001b[39m time\u001b[38;5;241m.\u001b[39mmonotonic())\n",
      "File \u001b[0;32m~/miniforge3/envs/quantie/lib/python3.8/concurrent/futures/_base.py:439\u001b[0m, in \u001b[0;36mFuture.result\u001b[0;34m(self, timeout)\u001b[0m\n\u001b[1;32m    436\u001b[0m \u001b[38;5;28;01melif\u001b[39;00m \u001b[38;5;28mself\u001b[39m\u001b[38;5;241m.\u001b[39m_state \u001b[38;5;241m==\u001b[39m FINISHED:\n\u001b[1;32m    437\u001b[0m     \u001b[38;5;28;01mreturn\u001b[39;00m \u001b[38;5;28mself\u001b[39m\u001b[38;5;241m.\u001b[39m__get_result()\n\u001b[0;32m--> 439\u001b[0m \u001b[38;5;28;43mself\u001b[39;49m\u001b[38;5;241;43m.\u001b[39;49m\u001b[43m_condition\u001b[49m\u001b[38;5;241;43m.\u001b[39;49m\u001b[43mwait\u001b[49m\u001b[43m(\u001b[49m\u001b[43mtimeout\u001b[49m\u001b[43m)\u001b[49m\n\u001b[1;32m    441\u001b[0m \u001b[38;5;28;01mif\u001b[39;00m \u001b[38;5;28mself\u001b[39m\u001b[38;5;241m.\u001b[39m_state \u001b[38;5;129;01min\u001b[39;00m [CANCELLED, CANCELLED_AND_NOTIFIED]:\n\u001b[1;32m    442\u001b[0m     \u001b[38;5;28;01mraise\u001b[39;00m CancelledError()\n",
      "File \u001b[0;32m~/miniforge3/envs/quantie/lib/python3.8/threading.py:302\u001b[0m, in \u001b[0;36mCondition.wait\u001b[0;34m(self, timeout)\u001b[0m\n\u001b[1;32m    300\u001b[0m \u001b[38;5;28;01mtry\u001b[39;00m:    \u001b[38;5;66;03m# restore state no matter what (e.g., KeyboardInterrupt)\u001b[39;00m\n\u001b[1;32m    301\u001b[0m     \u001b[38;5;28;01mif\u001b[39;00m timeout \u001b[38;5;129;01mis\u001b[39;00m \u001b[38;5;28;01mNone\u001b[39;00m:\n\u001b[0;32m--> 302\u001b[0m         \u001b[43mwaiter\u001b[49m\u001b[38;5;241;43m.\u001b[39;49m\u001b[43macquire\u001b[49m\u001b[43m(\u001b[49m\u001b[43m)\u001b[49m\n\u001b[1;32m    303\u001b[0m         gotit \u001b[38;5;241m=\u001b[39m \u001b[38;5;28;01mTrue\u001b[39;00m\n\u001b[1;32m    304\u001b[0m     \u001b[38;5;28;01melse\u001b[39;00m:\n",
      "\u001b[0;31mKeyboardInterrupt\u001b[0m: "
     ]
    }
   ],
   "source": [
    "from tqdm.contrib.concurrent import process_map\n",
    "from multiprocessing import Pool, cpu_count\n",
    "from functools import partial\n",
    "from 回测函数包 import *\n",
    "\n",
    "for top_n in range(5, 30):\n",
    "    for ic_bar in [0.075, 0.08, 0.085, 0.09]:\n",
    "        features = cf.factor_filter_double(df, ic, number_bar=0.1, top_n=top_n, ic_bar=ic_bar)\n",
    "        print(features)\n",
    "        print(\"指标筛选已完成\")\n",
    "\n",
    "        # 读取期货id\n",
    "        futures_name = df['id'].unique()\n",
    "        diction_model = []\n",
    "        for name in futures_name:\n",
    "            # 读取指标名称\n",
    "            selected_features = features[name]\n",
    "            if len(selected_features) == 0:\n",
    "                continue\n",
    "            columns_to_extract = ['date'] + ['id'] + selected_features + ['returns']\n",
    "            df_subset = df[df['id'] == name][columns_to_extract]\n",
    "\n",
    "            # 删除缺失值\n",
    "            df_subset = df_subset.dropna()\n",
    "\n",
    "            # 新建存储模型预测结果的列\n",
    "            df_subset['prediction'] = 0\n",
    "            df_subset['prediction'] = df_subset['prediction'].astype(float)\n",
    "            # 将数据前\n",
    "            threshold = int(0.99 * len(df_subset))\n",
    "            if threshold <= 287:\n",
    "                # 如果某品种过往数据太少，这个品种将不参与运算\n",
    "                continue\n",
    "            else:\n",
    "                df_subset['label'] = np.where(df_subset.index.isin(df_subset.index[:287]), -1, 1)\n",
    "            diction_model.append(df_subset)\n",
    "        print(\"所有准备工作已完成，即将开始滚动训练\")\n",
    "\n",
    "        # 指定所用样本点数\n",
    "        # 假设 diction_model 是你的列表\n",
    "        sum_length = sum(len(item) for item in diction_model)\n",
    "        print(\"元素总数:\", sum_length)\n",
    "\n",
    "        partial_function = partial(cf.linear_regression_rolling, length=287)\n",
    "\n",
    "        # 使用多进程进行回测\n",
    "        results = process_map(partial_function, diction_model, max_workers=cpu_count()-1)\n",
    "        prediction = pd.concat(results, ignore_index=True)\n",
    "        result = data.merge(prediction[['id', 'date', 'label', 'prediction']], on=['id', 'date'], how='left')\n",
    "        # 使用信号生成函数生成交易记录，此处设置阈值为0.005\n",
    "        signals = cf.signals_day(result, 0.005)\n",
    "        # print(signals)\n",
    "        # 使用等市值函数将开仓手数进行等市值处理\n",
    "        signals = equal_weight(signals, 1700000)\n",
    "\n",
    "        # 输出回测结果\n",
    "        i_want, d = backtest(4000000, signals)\n",
    "        i_want['指标数'] = top_n\n",
    "        i_want['信息系数门槛'] = ic_bar\n",
    "        i_want_df = pd.DataFrame([i_want])\n",
    "        what_i_want = pd.concat([what_i_want, i_want_df], ignore_index=True)"
   ]
  },
  {
   "cell_type": "code",
   "execution_count": 5,
   "metadata": {},
   "outputs": [
    {
     "name": "stdout",
     "output_type": "stream",
     "text": [
      "指标筛选已完成\n",
      "所有准备工作已完成，即将开始滚动训练\n"
     ]
    },
    {
     "name": "stderr",
     "output_type": "stream",
     "text": [
      "100%|██████████| 58/58 [00:37<00:00,  1.53it/s]\n"
     ]
    },
    {
     "name": "stdout",
     "output_type": "stream",
     "text": [
      "最大回撤开始日期: 2021-09-03 00:00:00\n",
      "最大回撤结束日期: 2021-10-29 00:00:00\n",
      "交易次数: 997, 胜率: 58.07%, 日胜率: 56.46%, 盈亏比: 0.941, 日盈亏比: 1.083, 单笔平均盈亏: 3348.175, 最大回撤: 0.152, 总收益率: 83.45%, 年化收益率: 8.38%, 夏普比率: 0.928, 卡玛比率: 0.550, 百次交易盈亏0.12733776792841023\n",
      "指标筛选已完成\n",
      "所有准备工作已完成，即将开始滚动训练\n"
     ]
    },
    {
     "name": "stderr",
     "output_type": "stream",
     "text": [
      "100%|██████████| 58/58 [00:38<00:00,  1.50it/s]\n"
     ]
    },
    {
     "name": "stdout",
     "output_type": "stream",
     "text": [
      "最大回撤开始日期: 2021-09-03 00:00:00\n",
      "最大回撤结束日期: 2021-10-12 00:00:00\n",
      "交易次数: 1080, 胜率: 56.57%, 日胜率: 55.61%, 盈亏比: 0.933, 日盈亏比: 1.031, 单笔平均盈亏: 2526.362, 最大回撤: 0.183, 总收益率: 68.21%, 年化收益率: 7.09%, 夏普比率: 0.633, 卡玛比率: 0.388, 百次交易盈亏0.0934951236728041\n",
      "指标筛选已完成\n",
      "所有准备工作已完成，即将开始滚动训练\n"
     ]
    },
    {
     "name": "stderr",
     "output_type": "stream",
     "text": [
      " 74%|███████▍  | 43/58 [00:38<00:13,  1.13it/s]\n"
     ]
    },
    {
     "ename": "ValueError",
     "evalue": "Input X contains infinity or a value too large for dtype('float64').",
     "output_type": "error",
     "traceback": [
      "\u001b[0;31m---------------------------------------------------------------------------\u001b[0m",
      "\u001b[0;31m_RemoteTraceback\u001b[0m                          Traceback (most recent call last)",
      "\u001b[0;31m_RemoteTraceback\u001b[0m: \n\"\"\"\nTraceback (most recent call last):\n  File \"/Users/wangyanbo/miniforge3/envs/quantie/lib/python3.8/concurrent/futures/process.py\", line 239, in _process_worker\n    r = call_item.fn(*call_item.args, **call_item.kwargs)\n  File \"/Users/wangyanbo/miniforge3/envs/quantie/lib/python3.8/concurrent/futures/process.py\", line 198, in _process_chunk\n    return [fn(*args) for args in chunk]\n  File \"/Users/wangyanbo/miniforge3/envs/quantie/lib/python3.8/concurrent/futures/process.py\", line 198, in <listcomp>\n    return [fn(*args) for args in chunk]\n  File \"/Users/wangyanbo/24Spring/intern/MLBasedFuturesStrategy/计算函数包.py\", line 162, in linear_regression_rolling\n    model.fit(df[features].iloc[:training_end_position], df['returns'].iloc[:training_end_position])\n  File \"/Users/wangyanbo/miniforge3/envs/quantie/lib/python3.8/site-packages/sklearn/base.py\", line 1151, in wrapper\n    return fit_method(estimator, *args, **kwargs)\n  File \"/Users/wangyanbo/miniforge3/envs/quantie/lib/python3.8/site-packages/sklearn/linear_model/_base.py\", line 678, in fit\n    X, y = self._validate_data(\n  File \"/Users/wangyanbo/miniforge3/envs/quantie/lib/python3.8/site-packages/sklearn/base.py\", line 621, in _validate_data\n    X, y = check_X_y(X, y, **check_params)\n  File \"/Users/wangyanbo/miniforge3/envs/quantie/lib/python3.8/site-packages/sklearn/utils/validation.py\", line 1147, in check_X_y\n    X = check_array(\n  File \"/Users/wangyanbo/miniforge3/envs/quantie/lib/python3.8/site-packages/sklearn/utils/validation.py\", line 959, in check_array\n    _assert_all_finite(\n  File \"/Users/wangyanbo/miniforge3/envs/quantie/lib/python3.8/site-packages/sklearn/utils/validation.py\", line 124, in _assert_all_finite\n    _assert_all_finite_element_wise(\n  File \"/Users/wangyanbo/miniforge3/envs/quantie/lib/python3.8/site-packages/sklearn/utils/validation.py\", line 173, in _assert_all_finite_element_wise\n    raise ValueError(msg_err)\nValueError: Input X contains infinity or a value too large for dtype('float64').\n\"\"\"",
      "\nThe above exception was the direct cause of the following exception:\n",
      "\u001b[0;31mValueError\u001b[0m                                Traceback (most recent call last)",
      "Cell \u001b[0;32mIn[5], line 34\u001b[0m\n\u001b[1;32m     31\u001b[0m partial_function \u001b[38;5;241m=\u001b[39m partial(cf\u001b[38;5;241m.\u001b[39mlinear_regression_rolling, length\u001b[38;5;241m=\u001b[39m\u001b[38;5;241m287\u001b[39m)\n\u001b[1;32m     33\u001b[0m \u001b[38;5;66;03m# 使用多进程进行回测\u001b[39;00m\n\u001b[0;32m---> 34\u001b[0m results \u001b[38;5;241m=\u001b[39m \u001b[43mprocess_map\u001b[49m\u001b[43m(\u001b[49m\u001b[43mpartial_function\u001b[49m\u001b[43m,\u001b[49m\u001b[43m \u001b[49m\u001b[43mdiction_model\u001b[49m\u001b[43m,\u001b[49m\u001b[43m \u001b[49m\u001b[43mmax_workers\u001b[49m\u001b[38;5;241;43m=\u001b[39;49m\u001b[43mcpu_count\u001b[49m\u001b[43m(\u001b[49m\u001b[43m)\u001b[49m\u001b[43m \u001b[49m\u001b[38;5;241;43m-\u001b[39;49m\u001b[43m \u001b[49m\u001b[38;5;241;43m1\u001b[39;49m\u001b[43m)\u001b[49m\n\u001b[1;32m     35\u001b[0m prediction \u001b[38;5;241m=\u001b[39m pd\u001b[38;5;241m.\u001b[39mconcat(results, ignore_index\u001b[38;5;241m=\u001b[39m\u001b[38;5;28;01mTrue\u001b[39;00m)\n\u001b[1;32m     36\u001b[0m result \u001b[38;5;241m=\u001b[39m data\u001b[38;5;241m.\u001b[39mmerge(prediction[[\u001b[38;5;124m'\u001b[39m\u001b[38;5;124mid\u001b[39m\u001b[38;5;124m'\u001b[39m, \u001b[38;5;124m'\u001b[39m\u001b[38;5;124mdate\u001b[39m\u001b[38;5;124m'\u001b[39m, \u001b[38;5;124m'\u001b[39m\u001b[38;5;124mlabel\u001b[39m\u001b[38;5;124m'\u001b[39m, \u001b[38;5;124m'\u001b[39m\u001b[38;5;124mprediction\u001b[39m\u001b[38;5;124m'\u001b[39m]], on\u001b[38;5;241m=\u001b[39m[\u001b[38;5;124m'\u001b[39m\u001b[38;5;124mid\u001b[39m\u001b[38;5;124m'\u001b[39m, \u001b[38;5;124m'\u001b[39m\u001b[38;5;124mdate\u001b[39m\u001b[38;5;124m'\u001b[39m], how\u001b[38;5;241m=\u001b[39m\u001b[38;5;124m'\u001b[39m\u001b[38;5;124mleft\u001b[39m\u001b[38;5;124m'\u001b[39m)\n",
      "File \u001b[0;32m~/miniforge3/envs/quantie/lib/python3.8/site-packages/tqdm/contrib/concurrent.py:105\u001b[0m, in \u001b[0;36mprocess_map\u001b[0;34m(fn, *iterables, **tqdm_kwargs)\u001b[0m\n\u001b[1;32m    103\u001b[0m     tqdm_kwargs \u001b[38;5;241m=\u001b[39m tqdm_kwargs\u001b[38;5;241m.\u001b[39mcopy()\n\u001b[1;32m    104\u001b[0m     tqdm_kwargs[\u001b[38;5;124m\"\u001b[39m\u001b[38;5;124mlock_name\u001b[39m\u001b[38;5;124m\"\u001b[39m] \u001b[38;5;241m=\u001b[39m \u001b[38;5;124m\"\u001b[39m\u001b[38;5;124mmp_lock\u001b[39m\u001b[38;5;124m\"\u001b[39m\n\u001b[0;32m--> 105\u001b[0m \u001b[38;5;28;01mreturn\u001b[39;00m \u001b[43m_executor_map\u001b[49m\u001b[43m(\u001b[49m\u001b[43mProcessPoolExecutor\u001b[49m\u001b[43m,\u001b[49m\u001b[43m \u001b[49m\u001b[43mfn\u001b[49m\u001b[43m,\u001b[49m\u001b[43m \u001b[49m\u001b[38;5;241;43m*\u001b[39;49m\u001b[43miterables\u001b[49m\u001b[43m,\u001b[49m\u001b[43m \u001b[49m\u001b[38;5;241;43m*\u001b[39;49m\u001b[38;5;241;43m*\u001b[39;49m\u001b[43mtqdm_kwargs\u001b[49m\u001b[43m)\u001b[49m\n",
      "File \u001b[0;32m~/miniforge3/envs/quantie/lib/python3.8/site-packages/tqdm/contrib/concurrent.py:51\u001b[0m, in \u001b[0;36m_executor_map\u001b[0;34m(PoolExecutor, fn, *iterables, **tqdm_kwargs)\u001b[0m\n\u001b[1;32m     47\u001b[0m \u001b[38;5;28;01mwith\u001b[39;00m ensure_lock(tqdm_class, lock_name\u001b[38;5;241m=\u001b[39mlock_name) \u001b[38;5;28;01mas\u001b[39;00m lk:\n\u001b[1;32m     48\u001b[0m     \u001b[38;5;66;03m# share lock in case workers are already using `tqdm`\u001b[39;00m\n\u001b[1;32m     49\u001b[0m     \u001b[38;5;28;01mwith\u001b[39;00m PoolExecutor(max_workers\u001b[38;5;241m=\u001b[39mmax_workers, initializer\u001b[38;5;241m=\u001b[39mtqdm_class\u001b[38;5;241m.\u001b[39mset_lock,\n\u001b[1;32m     50\u001b[0m                       initargs\u001b[38;5;241m=\u001b[39m(lk,)) \u001b[38;5;28;01mas\u001b[39;00m ex:\n\u001b[0;32m---> 51\u001b[0m         \u001b[38;5;28;01mreturn\u001b[39;00m \u001b[38;5;28;43mlist\u001b[39;49m\u001b[43m(\u001b[49m\u001b[43mtqdm_class\u001b[49m\u001b[43m(\u001b[49m\u001b[43mex\u001b[49m\u001b[38;5;241;43m.\u001b[39;49m\u001b[43mmap\u001b[49m\u001b[43m(\u001b[49m\u001b[43mfn\u001b[49m\u001b[43m,\u001b[49m\u001b[43m \u001b[49m\u001b[38;5;241;43m*\u001b[39;49m\u001b[43miterables\u001b[49m\u001b[43m,\u001b[49m\u001b[43m \u001b[49m\u001b[43mchunksize\u001b[49m\u001b[38;5;241;43m=\u001b[39;49m\u001b[43mchunksize\u001b[49m\u001b[43m)\u001b[49m\u001b[43m,\u001b[49m\u001b[43m \u001b[49m\u001b[38;5;241;43m*\u001b[39;49m\u001b[38;5;241;43m*\u001b[39;49m\u001b[43mkwargs\u001b[49m\u001b[43m)\u001b[49m\u001b[43m)\u001b[49m\n",
      "File \u001b[0;32m~/miniforge3/envs/quantie/lib/python3.8/site-packages/tqdm/std.py:1178\u001b[0m, in \u001b[0;36mtqdm.__iter__\u001b[0;34m(self)\u001b[0m\n\u001b[1;32m   1175\u001b[0m time \u001b[38;5;241m=\u001b[39m \u001b[38;5;28mself\u001b[39m\u001b[38;5;241m.\u001b[39m_time\n\u001b[1;32m   1177\u001b[0m \u001b[38;5;28;01mtry\u001b[39;00m:\n\u001b[0;32m-> 1178\u001b[0m     \u001b[38;5;28;01mfor\u001b[39;00m obj \u001b[38;5;129;01min\u001b[39;00m iterable:\n\u001b[1;32m   1179\u001b[0m         \u001b[38;5;28;01myield\u001b[39;00m obj\n\u001b[1;32m   1180\u001b[0m         \u001b[38;5;66;03m# Update and possibly print the progressbar.\u001b[39;00m\n\u001b[1;32m   1181\u001b[0m         \u001b[38;5;66;03m# Note: does not call self.update(1) for speed optimisation.\u001b[39;00m\n",
      "File \u001b[0;32m~/miniforge3/envs/quantie/lib/python3.8/concurrent/futures/process.py:484\u001b[0m, in \u001b[0;36m_chain_from_iterable_of_lists\u001b[0;34m(iterable)\u001b[0m\n\u001b[1;32m    478\u001b[0m \u001b[38;5;28;01mdef\u001b[39;00m \u001b[38;5;21m_chain_from_iterable_of_lists\u001b[39m(iterable):\n\u001b[1;32m    479\u001b[0m \u001b[38;5;250m    \u001b[39m\u001b[38;5;124;03m\"\"\"\u001b[39;00m\n\u001b[1;32m    480\u001b[0m \u001b[38;5;124;03m    Specialized implementation of itertools.chain.from_iterable.\u001b[39;00m\n\u001b[1;32m    481\u001b[0m \u001b[38;5;124;03m    Each item in *iterable* should be a list.  This function is\u001b[39;00m\n\u001b[1;32m    482\u001b[0m \u001b[38;5;124;03m    careful not to keep references to yielded objects.\u001b[39;00m\n\u001b[1;32m    483\u001b[0m \u001b[38;5;124;03m    \"\"\"\u001b[39;00m\n\u001b[0;32m--> 484\u001b[0m     \u001b[38;5;28;01mfor\u001b[39;00m element \u001b[38;5;129;01min\u001b[39;00m iterable:\n\u001b[1;32m    485\u001b[0m         element\u001b[38;5;241m.\u001b[39mreverse()\n\u001b[1;32m    486\u001b[0m         \u001b[38;5;28;01mwhile\u001b[39;00m element:\n",
      "File \u001b[0;32m~/miniforge3/envs/quantie/lib/python3.8/concurrent/futures/_base.py:619\u001b[0m, in \u001b[0;36mExecutor.map.<locals>.result_iterator\u001b[0;34m()\u001b[0m\n\u001b[1;32m    616\u001b[0m \u001b[38;5;28;01mwhile\u001b[39;00m fs:\n\u001b[1;32m    617\u001b[0m     \u001b[38;5;66;03m# Careful not to keep a reference to the popped future\u001b[39;00m\n\u001b[1;32m    618\u001b[0m     \u001b[38;5;28;01mif\u001b[39;00m timeout \u001b[38;5;129;01mis\u001b[39;00m \u001b[38;5;28;01mNone\u001b[39;00m:\n\u001b[0;32m--> 619\u001b[0m         \u001b[38;5;28;01myield\u001b[39;00m \u001b[43mfs\u001b[49m\u001b[38;5;241;43m.\u001b[39;49m\u001b[43mpop\u001b[49m\u001b[43m(\u001b[49m\u001b[43m)\u001b[49m\u001b[38;5;241;43m.\u001b[39;49m\u001b[43mresult\u001b[49m\u001b[43m(\u001b[49m\u001b[43m)\u001b[49m\n\u001b[1;32m    620\u001b[0m     \u001b[38;5;28;01melse\u001b[39;00m:\n\u001b[1;32m    621\u001b[0m         \u001b[38;5;28;01myield\u001b[39;00m fs\u001b[38;5;241m.\u001b[39mpop()\u001b[38;5;241m.\u001b[39mresult(end_time \u001b[38;5;241m-\u001b[39m time\u001b[38;5;241m.\u001b[39mmonotonic())\n",
      "File \u001b[0;32m~/miniforge3/envs/quantie/lib/python3.8/concurrent/futures/_base.py:437\u001b[0m, in \u001b[0;36mFuture.result\u001b[0;34m(self, timeout)\u001b[0m\n\u001b[1;32m    435\u001b[0m     \u001b[38;5;28;01mraise\u001b[39;00m CancelledError()\n\u001b[1;32m    436\u001b[0m \u001b[38;5;28;01melif\u001b[39;00m \u001b[38;5;28mself\u001b[39m\u001b[38;5;241m.\u001b[39m_state \u001b[38;5;241m==\u001b[39m FINISHED:\n\u001b[0;32m--> 437\u001b[0m     \u001b[38;5;28;01mreturn\u001b[39;00m \u001b[38;5;28;43mself\u001b[39;49m\u001b[38;5;241;43m.\u001b[39;49m\u001b[43m__get_result\u001b[49m\u001b[43m(\u001b[49m\u001b[43m)\u001b[49m\n\u001b[1;32m    439\u001b[0m \u001b[38;5;28mself\u001b[39m\u001b[38;5;241m.\u001b[39m_condition\u001b[38;5;241m.\u001b[39mwait(timeout)\n\u001b[1;32m    441\u001b[0m \u001b[38;5;28;01mif\u001b[39;00m \u001b[38;5;28mself\u001b[39m\u001b[38;5;241m.\u001b[39m_state \u001b[38;5;129;01min\u001b[39;00m [CANCELLED, CANCELLED_AND_NOTIFIED]:\n",
      "File \u001b[0;32m~/miniforge3/envs/quantie/lib/python3.8/concurrent/futures/_base.py:389\u001b[0m, in \u001b[0;36mFuture.__get_result\u001b[0;34m(self)\u001b[0m\n\u001b[1;32m    387\u001b[0m \u001b[38;5;28;01mif\u001b[39;00m \u001b[38;5;28mself\u001b[39m\u001b[38;5;241m.\u001b[39m_exception:\n\u001b[1;32m    388\u001b[0m     \u001b[38;5;28;01mtry\u001b[39;00m:\n\u001b[0;32m--> 389\u001b[0m         \u001b[38;5;28;01mraise\u001b[39;00m \u001b[38;5;28mself\u001b[39m\u001b[38;5;241m.\u001b[39m_exception\n\u001b[1;32m    390\u001b[0m     \u001b[38;5;28;01mfinally\u001b[39;00m:\n\u001b[1;32m    391\u001b[0m         \u001b[38;5;66;03m# Break a reference cycle with the exception in self._exception\u001b[39;00m\n\u001b[1;32m    392\u001b[0m         \u001b[38;5;28mself\u001b[39m \u001b[38;5;241m=\u001b[39m \u001b[38;5;28;01mNone\u001b[39;00m\n",
      "\u001b[0;31mValueError\u001b[0m: Input X contains infinity or a value too large for dtype('float64')."
     ]
    }
   ],
   "source": [
    "for top_n in range(5, 100):\n",
    "    features = cf.factor_filter_rank(df, ic, number_bar=0.1, top_n=top_n)\n",
    "    print(\"指标筛选已完成\")\n",
    "\n",
    "    # 读取期货id\n",
    "    futures_name = df['id'].unique()\n",
    "    diction_model = []\n",
    "    for name in futures_name:\n",
    "        # 读取指标名称\n",
    "        selected_features = features[name]\n",
    "        columns_to_extract = ['date'] + ['id'] + selected_features + ['returns']\n",
    "        df_subset = df[df['id'] == name][columns_to_extract]\n",
    "\n",
    "        # 删除缺失值\n",
    "        df_subset = df_subset.dropna()\n",
    "\n",
    "        # 新建存储模型预测结果的列\n",
    "        df_subset['prediction'] = 0\n",
    "        df_subset['prediction'] = df_subset['prediction'].astype(float)\n",
    "        # 将数据前\n",
    "        threshold = int(0.99 * len(df_subset))\n",
    "        if threshold <= 287:\n",
    "            # 如果某品种过往数据太少，这个品种将不参与运算\n",
    "            continue\n",
    "        else:\n",
    "            df_subset['label'] = np.where(df_subset.index.isin(df_subset.index[:287]), -1, 1)\n",
    "        diction_model.append(df_subset)\n",
    "    print(\"所有准备工作已完成，即将开始滚动训练\")\n",
    "\n",
    "    # 指定所用样本点数\n",
    "    partial_function = partial(cf.linear_regression_rolling, length=287)\n",
    "\n",
    "    # 使用多进程进行回测\n",
    "    results = process_map(partial_function, diction_model, max_workers=cpu_count() - 1)\n",
    "    prediction = pd.concat(results, ignore_index=True)\n",
    "    result = data.merge(prediction[['id', 'date', 'label', 'prediction']], on=['id', 'date'], how='left')\n",
    "    # 使用信号生成函数生成交易记录，此处设置阈值为0.005\n",
    "    signals = cf.signals_day(result, 0.005)\n",
    "    # print(signals)\n",
    "    # 使用等市值函数将开仓手数进行等市值处理\n",
    "    signals = equal_weight(signals, 1700000)\n",
    "\n",
    "    # 输出回测结果\n",
    "    i_want = backtest(4000000, signals)\n",
    "    i_want['指标数'] = top_n\n",
    "    i_want_df = pd.DataFrame([i_want])\n",
    "    what_i_want = pd.concat([what_i_want, i_want_df], ignore_index=True)"
   ]
  }
 ],
 "metadata": {
  "kernelspec": {
   "display_name": "quantie",
   "language": "python",
   "name": "python3"
  },
  "language_info": {
   "codemirror_mode": {
    "name": "ipython",
    "version": 3
   },
   "file_extension": ".py",
   "mimetype": "text/x-python",
   "name": "python",
   "nbconvert_exporter": "python",
   "pygments_lexer": "ipython3",
   "version": "3.8.16"
  }
 },
 "nbformat": 4,
 "nbformat_minor": 2
}
